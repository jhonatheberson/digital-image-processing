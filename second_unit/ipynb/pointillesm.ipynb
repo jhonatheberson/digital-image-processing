{
 "metadata": {
  "language_info": {
   "codemirror_mode": {
    "name": "ipython",
    "version": 3
   },
   "file_extension": ".py",
   "mimetype": "text/x-python",
   "name": "python",
   "nbconvert_exporter": "python",
   "pygments_lexer": "ipython3",
   "version": "3.8.5-final"
  },
  "orig_nbformat": 2,
  "kernelspec": {
   "name": "python38364bitanaconda3virtualenvc771911bd3e34967806341dee24480a7",
   "display_name": "Python 3.8.3 64-bit ('anaconda3': virtualenv)"
  }
 },
 "nbformat": 4,
 "nbformat_minor": 2,
 "cells": [
  {
   "cell_type": "code",
   "execution_count": 5,
   "metadata": {},
   "outputs": [],
   "source": [
    "import numpy as np\n",
    "import cv2 as cv"
   ]
  },
  {
   "cell_type": "code",
   "execution_count": 6,
   "metadata": {},
   "outputs": [],
   "source": [
    "def ponto_img(img):\n",
    "    tamanho = img.shape\n",
    "    retorno = np.zeros(tamanho, dtype=np.uint8)\n",
    "\n",
    "    STEP = 4\n",
    "    JITTER = 3\n",
    "    RAIO = 4\n",
    "\n",
    "    xrange = np.arange(0, tamanho[0]-STEP, STEP) + STEP // 2\n",
    "    yrange = np.arange(0, tamanho[1]-STEP, STEP) + STEP // 2\n",
    "\n",
    "    np.random.shuffle(xrange)\n",
    "    for i in xrange:\n",
    "        np.random.shuffle(yrange)\n",
    "        for j in yrange:\n",
    "            x = i + np.random.randint((2 * JITTER) - JITTER + 1)\n",
    "            y = j + np.random.randint((2 * JITTER) - JITTER + 1)\n",
    "            cor = img[x, y]\n",
    "            retorno = cv.circle(retorno, (y, x), RAIO, (int(cor[0]), int(cor[1]), int(cor[2])), -1, lineType=cv.LINE_AA)\n",
    "\n",
    "    return retorno"
   ]
  },
  {
   "cell_type": "code",
   "execution_count": null,
   "metadata": {},
   "outputs": [],
   "source": [
    "def main():\n",
    "    print(\"https://pixabay.com/pt/photos/gato-ressaca-vermelho-bonito-1044750/\")\n",
    "    # img = cv.imread('cat.jpg', cv.IMREAD_GRAYSCALE)\n",
    "    img = cv.imread('../assets/jhonat.jpg')\n",
    "    img = cv.resize(img, (800, 532))\n",
    "    if img.data:\n",
    "        cv.imshow('img.jpg', img)\n",
    "    else:\n",
    "        print('Sem imagem!')\n",
    "\n",
    "    cv.imshow('Pontos', ponto_img(img))\n",
    "   \n",
    "\n",
    "    cv.waitKey()\n",
    "\n",
    "if __name__ == '__main__':\n",
    "    main()"
   ]
  },
  {
   "cell_type": "code",
   "execution_count": null,
   "metadata": {},
   "outputs": [],
   "source": []
  }
 ]
}