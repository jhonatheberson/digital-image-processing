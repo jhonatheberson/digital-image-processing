{
 "metadata": {
  "language_info": {
   "codemirror_mode": {
    "name": "ipython",
    "version": 3
   },
   "file_extension": ".py",
   "mimetype": "text/x-python",
   "name": "python",
   "nbconvert_exporter": "python",
   "pygments_lexer": "ipython3",
   "version": "3.8.5-final"
  },
  "orig_nbformat": 2,
  "kernelspec": {
   "name": "python38364bitanaconda3virtualenvc771911bd3e34967806341dee24480a7",
   "display_name": "Python 3.8.3 64-bit ('anaconda3': virtualenv)"
  }
 },
 "nbformat": 4,
 "nbformat_minor": 2,
 "cells": [
  {
   "cell_type": "code",
   "execution_count": 9,
   "metadata": {},
   "outputs": [],
   "source": [
    "import numpy as np\n",
    "import cv2 as cv"
   ]
  },
  {
   "cell_type": "code",
   "execution_count": 10,
   "metadata": {},
   "outputs": [],
   "source": [
    "def ponto_img(img):\n",
    "    tamanho = img.shape\n",
    "    retorno = np.zeros(tamanho, dtype=np.uint8)\n",
    "\n",
    "    STEP = 4\n",
    "    JITTER = 3\n",
    "    RAIO = 4\n",
    "\n",
    "    xrange = np.arange(0, tamanho[0]-STEP, STEP) + STEP // 2\n",
    "    yrange = np.arange(0, tamanho[1]-STEP, STEP) + STEP // 2\n",
    "\n",
    "    np.random.shuffle(xrange)\n",
    "    for i in xrange:\n",
    "        np.random.shuffle(yrange)\n",
    "        for j in yrange:\n",
    "            x = i + np.random.randint((2 * JITTER) - JITTER + 1)\n",
    "            y = j + np.random.randint((2 * JITTER) - JITTER + 1)\n",
    "            cor = img[x, y]\n",
    "            retorno = cv.circle(retorno, (y, x), RAIO, (int(cor[0]), int(cor[1]), int(cor[2])), -1, lineType=cv.LINE_AA)\n",
    "\n",
    "    return retorno"
   ]
  },
  {
   "cell_type": "code",
   "execution_count": 11,
   "metadata": {},
   "outputs": [],
   "source": [
    "def bordar_random(img, fundo, fator=20):\n",
    "    retorno = fundo.copy()\n",
    "\n",
    "    for i in range(6, 0, -1):\n",
    "        pontos = cv.Canny(img, i*fator, i*fator*3)\n",
    "        pontos = np.where(pontos != 0)\n",
    "        cordenadas = zip(pontos[0], pontos[1])\n",
    "\n",
    "        for p in cordenadas:\n",
    "            cor = img[p]\n",
    "            retorno = cv.circle(retorno, (p[1], p[0]), i,  (int(cor[0]), int(cor[1]), int(cor[2])), -1, lineType=cv.LINE_AA)\n",
    "\n",
    "    return retorno"
   ]
  },
  {
   "cell_type": "code",
   "execution_count": 8,
   "metadata": {},
   "outputs": [
    {
     "output_type": "stream",
     "name": "stdout",
     "text": [
      "https://pixabay.com/pt/photos/gato-ressaca-vermelho-bonito-1044750/\n"
     ]
    },
    {
     "output_type": "error",
     "ename": "error",
     "evalue": "OpenCV(4.4.0) /tmp/pip-req-build-vu_aq9yd/opencv/modules/imgproc/src/resize.cpp:3929: error: (-215:Assertion failed) !ssize.empty() in function 'resize'\n",
     "traceback": [
      "\u001b[0;31m---------------------------------------------------------------------------\u001b[0m",
      "\u001b[0;31merror\u001b[0m                                     Traceback (most recent call last)",
      "\u001b[0;32m<ipython-input-8-eb3ba71e25f2>\u001b[0m in \u001b[0;36m<module>\u001b[0;34m\u001b[0m\n\u001b[1;32m     16\u001b[0m \u001b[0;34m\u001b[0m\u001b[0m\n\u001b[1;32m     17\u001b[0m \u001b[0;32mif\u001b[0m \u001b[0m__name__\u001b[0m \u001b[0;34m==\u001b[0m \u001b[0;34m'__main__'\u001b[0m\u001b[0;34m:\u001b[0m\u001b[0;34m\u001b[0m\u001b[0;34m\u001b[0m\u001b[0m\n\u001b[0;32m---> 18\u001b[0;31m     \u001b[0mmain\u001b[0m\u001b[0;34m(\u001b[0m\u001b[0;34m)\u001b[0m\u001b[0;34m\u001b[0m\u001b[0;34m\u001b[0m\u001b[0m\n\u001b[0m",
      "\u001b[0;32m<ipython-input-8-eb3ba71e25f2>\u001b[0m in \u001b[0;36mmain\u001b[0;34m()\u001b[0m\n\u001b[1;32m      3\u001b[0m     \u001b[0;31m# img = cv.imread('cat.jpg', cv.IMREAD_GRAYSCALE)\u001b[0m\u001b[0;34m\u001b[0m\u001b[0;34m\u001b[0m\u001b[0;34m\u001b[0m\u001b[0m\n\u001b[1;32m      4\u001b[0m     \u001b[0mimg\u001b[0m \u001b[0;34m=\u001b[0m \u001b[0mcv\u001b[0m\u001b[0;34m.\u001b[0m\u001b[0mimread\u001b[0m\u001b[0;34m(\u001b[0m\u001b[0;34m'../assets/jhonat.jpg'\u001b[0m\u001b[0;34m)\u001b[0m\u001b[0;34m\u001b[0m\u001b[0;34m\u001b[0m\u001b[0m\n\u001b[0;32m----> 5\u001b[0;31m     \u001b[0mimg\u001b[0m \u001b[0;34m=\u001b[0m \u001b[0mcv\u001b[0m\u001b[0;34m.\u001b[0m\u001b[0mresize\u001b[0m\u001b[0;34m(\u001b[0m\u001b[0mimg\u001b[0m\u001b[0;34m,\u001b[0m \u001b[0;34m(\u001b[0m\u001b[0;36m800\u001b[0m\u001b[0;34m,\u001b[0m \u001b[0;36m532\u001b[0m\u001b[0;34m)\u001b[0m\u001b[0;34m)\u001b[0m\u001b[0;34m\u001b[0m\u001b[0;34m\u001b[0m\u001b[0m\n\u001b[0m\u001b[1;32m      6\u001b[0m     \u001b[0;32mif\u001b[0m \u001b[0mimg\u001b[0m\u001b[0;34m.\u001b[0m\u001b[0mdata\u001b[0m\u001b[0;34m:\u001b[0m\u001b[0;34m\u001b[0m\u001b[0;34m\u001b[0m\u001b[0m\n\u001b[1;32m      7\u001b[0m         \u001b[0mcv\u001b[0m\u001b[0;34m.\u001b[0m\u001b[0mimshow\u001b[0m\u001b[0;34m(\u001b[0m\u001b[0;34m'img.jpg'\u001b[0m\u001b[0;34m,\u001b[0m \u001b[0mimg\u001b[0m\u001b[0;34m)\u001b[0m\u001b[0;34m\u001b[0m\u001b[0;34m\u001b[0m\u001b[0m\n",
      "\u001b[0;31merror\u001b[0m: OpenCV(4.4.0) /tmp/pip-req-build-vu_aq9yd/opencv/modules/imgproc/src/resize.cpp:3929: error: (-215:Assertion failed) !ssize.empty() in function 'resize'\n"
     ]
    }
   ],
   "source": [
    "def main():\n",
    "    print(\"https://pixabay.com/pt/photos/gato-ressaca-vermelho-bonito-1044750/\")\n",
    "    # img = cv.imread('cat.jpg', cv.IMREAD_GRAYSCALE)\n",
    "    img = cv.imread('../assets/jhonat.jpg')\n",
    "    img = cv.resize(img, (800, 532))\n",
    "    if img.data:\n",
    "        cv.imshow('img.jpg', img)\n",
    "    else:\n",
    "        print('Sem imagem!')\n",
    "\n",
    "    cv.imshow('Pontos', ponto_img(img))\n",
    "    retorno = bordar_random(img, ponto_img(img))\n",
    "    cv.imshow('Saida', retorno)\n",
    "\n",
    "    cv.waitKey()\n",
    "\n",
    "if __name__ == '__main__':\n",
    "    main()\n"
   ]
  },
  {
   "cell_type": "code",
   "execution_count": null,
   "metadata": {},
   "outputs": [],
   "source": []
  }
 ]
}