{
 "metadata": {
  "language_info": {
   "codemirror_mode": {
    "name": "ipython",
    "version": 3
   },
   "file_extension": ".py",
   "mimetype": "text/x-python",
   "name": "python",
   "nbconvert_exporter": "python",
   "pygments_lexer": "ipython3",
   "version": "3.8.5-final"
  },
  "orig_nbformat": 2,
  "kernelspec": {
   "name": "python38364bitanaconda3virtualenvc771911bd3e34967806341dee24480a7",
   "display_name": "Python 3.8.3 64-bit ('anaconda3': virtualenv)"
  }
 },
 "nbformat": 4,
 "nbformat_minor": 2,
 "cells": [
  {
   "cell_type": "code",
   "execution_count": 5,
   "metadata": {},
   "outputs": [],
   "source": [
    "import numpy as np\n",
    "import cv2 as cv"
   ]
  },
  {
   "cell_type": "code",
   "execution_count": 6,
   "metadata": {},
   "outputs": [],
   "source": [
    "def prof_kmeans(img):\n",
    "    nClusters = 8\n",
    "    nRodadas = 5\n",
    "\n",
    "    samples = img.copy()\n",
    "    samples = np.array(samples.reshape(-1, 3))\n",
    "    samples = samples.astype(np.float32)\n",
    "\n",
    "    ret, label, center = cv.kmeans(samples,\n",
    "                                   nClusters,\n",
    "                                   None,\n",
    "                                   (cv.TERM_CRITERIA_MAX_ITER | cv.TERM_CRITERIA_EPS, 10000, 0.0001),\n",
    "                                   nRodadas,\n",
    "                                   cv.KMEANS_PP_CENTERS)\n",
    "\n",
    "    center = np.uint8(center)\n",
    "    res = center[label.flatten()]\n",
    "    res2 = res.reshape(img.shape)\n",
    "\n",
    "    return res2"
   ]
  },
  {
   "cell_type": "code",
   "execution_count": 7,
   "metadata": {},
   "outputs": [],
   "source": [
    "def meu_kmeans(img):\n",
    "    nClusters = 8\n",
    "    nRodadas = 1\n",
    "\n",
    "    samples = img.copy()\n",
    "    samples = np.array(samples.reshape(-1, 3))\n",
    "    samples = samples.astype(np.float32)\n",
    "\n",
    "    ret, label, center = cv.kmeans(samples,\n",
    "                                   nClusters,\n",
    "                                   None,\n",
    "                                   (cv.TERM_CRITERIA_MAX_ITER | cv.TERM_CRITERIA_EPS, 10000, 0.0001),\n",
    "                                   nRodadas,\n",
    "                                   cv.KMEANS_RANDOM_CENTERS)\n",
    "\n",
    "    center = np.uint8(center)\n",
    "    res = center[label.flatten()]\n",
    "    res2 = res.reshape(img.shape)\n",
    "\n",
    "    return res2"
   ]
  },
  {
   "cell_type": "code",
   "execution_count": 8,
   "metadata": {},
   "outputs": [],
   "source": [
    "def main():\n",
    "    img = cv.imread('../assets/jhonat.jpg', cv.IMREAD_COLOR)\n",
    "    if img.data:\n",
    "        # cv.imshow('lena.jpg', img)\n",
    "        pass\n",
    "    else:\n",
    "        print('Sem imagem!')\n",
    "\n",
    "    original = prof_kmeans(img)\n",
    "    cv.imshow('Imp original', original)\n",
    "\n",
    "\n",
    "    for i in range(11):\n",
    "        rodada = meu_kmeans(img)\n",
    "        cv.imshow(f'Rodada {i}', rodada)\n",
    "\n",
    "\n",
    "    cv.waitKey()\n",
    "\n",
    "\n",
    "if __name__ == '__main__':\n",
    "    main()"
   ]
  },
  {
   "cell_type": "code",
   "execution_count": null,
   "metadata": {},
   "outputs": [],
   "source": []
  }
 ]
}