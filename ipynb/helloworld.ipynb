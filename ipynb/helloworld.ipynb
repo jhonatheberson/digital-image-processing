{
 "metadata": {
  "language_info": {
   "codemirror_mode": {
    "name": "ipython",
    "version": 3
   },
   "file_extension": ".py",
   "mimetype": "text/x-python",
   "name": "python",
   "nbconvert_exporter": "python",
   "pygments_lexer": "ipython3",
   "version": "3.8.3-final"
  },
  "orig_nbformat": 2,
  "kernelspec": {
   "name": "python38364bitanaconda3virtualenvc771911bd3e34967806341dee24480a7",
   "display_name": "Python 3.8.3 64-bit ('anaconda3': virtualenv)"
  }
 },
 "nbformat": 4,
 "nbformat_minor": 2,
 "cells": [
  {
   "cell_type": "code",
   "execution_count": 1,
   "metadata": {},
   "outputs": [
    {
     "output_type": "execute_result",
     "data": {
      "text/plain": "True"
     },
     "metadata": {},
     "execution_count": 1
    }
   ],
   "source": [
    "import cv2 as cv #import opencv \n",
    "import sys #import sys the system for \n",
    "img = cv.imread(cv.samples.findFile(\"assets/biel.png\")) # open picture\n",
    "if img is None: #checks picture has been apened \n",
    "    sys.exit(\"Could not read the image.\")\n",
    "cv.imshow(\"Display window\", img) #show picture\n",
    "cv.imwrite(\"assets/starry_night.jpeg\", img) #save picture"
   ]
  },
  {
   "cell_type": "code",
   "execution_count": 1,
   "metadata": {},
   "outputs": [
    {
     "output_type": "execute_result",
     "data": {
      "text/plain": "True"
     },
     "metadata": {},
     "execution_count": 1
    }
   ],
   "source": [
    "import cv2 as cv #import opencv \n",
    "import sys #import sys the system for \n",
    "img = cv.imread(cv.samples.findFile(\"assets/biel.png\")) # open picture\n",
    "if img is None: #checks picture has been apened \n",
    "    sys.exit(\"Could not read the image.\")\n",
    "cv.imshow(\"Display window\", img) #show picture\n",
    "cv.imwrite(\"assets/starry_night.jpeg\", img) #save picture"
   ]
  },
  {
   "cell_type": "code",
   "execution_count": null,
   "metadata": {},
   "outputs": [],
   "source": []
  }
 ]
}