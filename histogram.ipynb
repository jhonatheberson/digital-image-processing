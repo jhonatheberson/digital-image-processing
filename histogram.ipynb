{
 "metadata": {
  "language_info": {
   "codemirror_mode": {
    "name": "ipython",
    "version": 3
   },
   "file_extension": ".py",
   "mimetype": "text/x-python",
   "name": "python",
   "nbconvert_exporter": "python",
   "pygments_lexer": "ipython3",
   "version": "3.8.3-final"
  },
  "orig_nbformat": 2,
  "kernelspec": {
   "name": "python38364bitanaconda3virtualenvc771911bd3e34967806341dee24480a7",
   "display_name": "Python 3.8.3 64-bit ('anaconda3': virtualenv)"
  }
 },
 "nbformat": 4,
 "nbformat_minor": 2,
 "cells": [
  {
   "cell_type": "code",
   "execution_count": 25,
   "metadata": {},
   "outputs": [],
   "source": [
    "import numpy as np\n",
    "from cv2 import *\n",
    "from matplotlib import pyplot as plt"
   ]
  },
  {
   "cell_type": "code",
   "execution_count": 26,
   "metadata": {},
   "outputs": [],
   "source": [
    "histR = np.zeros(64)\n",
    "histG = np.zeros(64)\n",
    "histB = np.zeros(64)\n",
    "nbins = 64\n",
    "histrange = range(0,256)\n",
    "histWidth = int(nbins)\n",
    "histheight = int(nbins/2)\n"
   ]
  },
  {
   "cell_type": "code",
   "execution_count": 27,
   "metadata": {},
   "outputs": [],
   "source": [
    "# create a mask\n",
    "mask = np.zeros((histheight,histWidth), np.uint8)\n",
    "mask[0:histheight, 0:histWidth] = 255\n",
    "histImgR = np.zeros((histheight,histWidth), np.uint8)\n",
    "histImgG = np.zeros((histheight,histWidth), np.uint8)\n",
    "histImgB = np.zeros((histheight,histWidth), np.uint8)\n"
   ]
  },
  {
   "cell_type": "code",
   "execution_count": 28,
   "metadata": {},
   "outputs": [],
   "source": [
    "\n",
    "cap = VideoCapture(0)\n",
    "if not cap.isOpened():\n",
    "    print(\"Cannot open camera\")\n",
    "    exit()\n",
    "\n",
    "# Define the codec and create VideoWriter object\n",
    "# fourcc = VideoWriter_fourcc(*'XVID')\n",
    "# out = VideoWriter('output.avi', fourcc, 20.0, (640,  480))"
   ]
  },
  {
   "cell_type": "code",
   "execution_count": 29,
   "metadata": {},
   "outputs": [],
   "source": [
    "while True:\n",
    "    # Capture frame-by-frame\n",
    "    ret, frame = cap.read()\n",
    "\n",
    "    cap.set(CAP_PROP_FRAME_WIDTH, 640)\n",
    "    cap.set(CAP_PROP_FRAME_HEIGHT, 480)\n",
    "\n",
    "    width = cap.get(CAP_PROP_FRAME_WIDTH)\n",
    "    height = cap.get(CAP_PROP_FRAME_HEIGHT)\n",
    "\n",
    "    # print('width: ', width)\n",
    "    # print('heigth', height)\n",
    "    \n",
    "\n",
    "    # if frame is read correctly ret is True\n",
    "    if not ret:\n",
    "        print(\"Can't receive frame (stream end?). Exiting ...\")\n",
    "        break\n",
    "\n",
    "\n",
    "\n",
    "\n",
    "    # frame = flip(frame, 0)\n",
    "    # write the flipped frame\n",
    "    # out.write(frame)\n",
    "    # Our operations on the frame come here\n",
    "\n",
    "    \n",
    "    \n",
    "    # [b,g,r]\n",
    "    \n",
    "    histB = calcHist([frame],[0],None,[256],[0,256])\n",
    "    histG = calcHist([frame],[1],None,[256],[0,256])\n",
    "    histR = calcHist([frame],[2],None,[256],[0,256])\n",
    "    \n",
    "    mask_default = np.zeros((histheight, nbins), np.uint8)\n",
    "    mask_B = merge((mask_default,mask_default,mask_default))\n",
    "    mask_G = merge((mask_default,mask_default,mask_default))\n",
    "    mask_R = merge((mask_default,mask_default,mask_default))\n",
    "\n",
    "    for i in range(nbins):\n",
    "        line(mask_B, (i, histheight), (i,int(histB[i])), (255,0,0), 1)\n",
    "        line(mask_G, (i, histheight), (i,int(histG[i])), (0,255,0), 1)\n",
    "        line(mask_R, (i, histheight), (i,int(histB[i])), (0,0,255), 1)\n",
    "\n",
    "    \n",
    "    frame[0:histheight,0:nbins] = mask_B\n",
    "    frame[histheight:2*histheight,0:nbins] = mask_G\n",
    "    frame[2*histheight:3*histheight,0:nbins] = mask_R\n",
    "\n",
    "    imshow('frame', frame)\n",
    "    if waitKey(1) == ord('q'):\n",
    "        break\n",
    "# When everything done, release the capture\n",
    "cap.release()\n",
    "destroyAllWindows()"
   ]
  },
  {
   "cell_type": "code",
   "execution_count": null,
   "metadata": {},
   "outputs": [],
   "source": []
  }
 ]
}