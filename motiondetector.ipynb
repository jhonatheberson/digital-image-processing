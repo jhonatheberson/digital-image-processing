{
 "metadata": {
  "language_info": {
   "codemirror_mode": {
    "name": "ipython",
    "version": 3
   },
   "file_extension": ".py",
   "mimetype": "text/x-python",
   "name": "python",
   "nbconvert_exporter": "python",
   "pygments_lexer": "ipython3",
   "version": "3.8.3-final"
  },
  "orig_nbformat": 2,
  "kernelspec": {
   "name": "python38364bitanaconda3virtualenvc771911bd3e34967806341dee24480a7",
   "display_name": "Python 3.8.3 64-bit ('anaconda3': virtualenv)"
  }
 },
 "nbformat": 4,
 "nbformat_minor": 2,
 "cells": [
  {
   "cell_type": "code",
   "execution_count": 1,
   "metadata": {},
   "outputs": [],
   "source": [
    "import numpy as np\n",
    "from cv2 import *\n",
    "from matplotlib import pyplot as plt\n",
    "import os\n"
   ]
  },
  {
   "cell_type": "code",
   "execution_count": 2,
   "metadata": {},
   "outputs": [],
   "source": [
    "cap = VideoCapture(0)\n",
    "if not cap.isOpened():\n",
    "    print(\"Cannot open camera\")\n",
    "    exit()\n",
    "\n",
    "# Define the codec and create VideoWriter object\n",
    "# fourcc = VideoWriter_fourcc(*'XVID')\n",
    "# out = VideoWriter('output.avi', fourcc, 20.0, (640,  480))"
   ]
  },
  {
   "cell_type": "code",
   "execution_count": 3,
   "metadata": {},
   "outputs": [
    {
     "output_type": "stream",
     "name": "stdout",
     "text": [
      "motion detected\n",
      "motion detected\n",
      "motion detected\n",
      "motion detected\n",
      "motion detected\n",
      "motion detected\n",
      "motion detected\n",
      "motion detected\n",
      "motion detected\n",
      "motion detected\n",
      "motion detected\n",
      "motion detected\n",
      "motion detected\n",
      "motion detected\n",
      "motion detected\n",
      "motion detected\n",
      "motion detected\n",
      "motion detected\n"
     ]
    }
   ],
   "source": [
    "while True:\n",
    "    # Capture frame-by-frame\n",
    "    ret, frame_1 = cap.read()\n",
    "\n",
    "    cap.set(CAP_PROP_FRAME_WIDTH, 640)\n",
    "    cap.set(CAP_PROP_FRAME_HEIGHT, 480)\n",
    "\n",
    "    width = cap.get(CAP_PROP_FRAME_WIDTH)\n",
    "    height = cap.get(CAP_PROP_FRAME_HEIGHT)\n",
    "\n",
    "    # print('width: ', width)\n",
    "    # print('heigth', height)\n",
    "    \n",
    "\n",
    "    # if frame is read correctly ret is True\n",
    "    if not ret:\n",
    "        print(\"Can't receive frame (stream end?). Exiting ...\")\n",
    "        break\n",
    "\n",
    "    img = imread('./assets/bolhas.png',IMREAD_GRAYSCALE)\n",
    "\n",
    "\n",
    "    # frame = flip(frame, 0)\n",
    "    # write the flipped frame\n",
    "    # out.write(frame)\n",
    "    # Our operations on the frame come here\n",
    "\n",
    "    # Our operations on the frame come here\n",
    "    gray_1 = cvtColor(frame_1, COLOR_BGR2GRAY)\n",
    "    equ_1 = equalizeHist(gray_1) # histogram equalization\n",
    "    histgray_1 = calcHist([equ_1],[0],None,[256],[0,256])\n",
    "    \n",
    "    ret, frame_2 = cap.read()\n",
    "\n",
    "    if not ret:\n",
    "        print(\"Can't receive frame (stream end?). Exiting ...\")\n",
    "        break\n",
    "\n",
    "    gray_2 = cvtColor(frame_2, COLOR_BGR2GRAY)\n",
    "    equ_2 = equalizeHist(gray_2) # histogram equalization\n",
    "    histgray_2 = calcHist([equ_2],[0],None,[256],[0,256])\n",
    "\n",
    "\n",
    "\n",
    "    # detecte moviment\n",
    "    # print((histgray_2 != histgray_1).any())\n",
    "    if (histgray_2 != histgray_1).any():\n",
    "        print('motion detected')\n",
    "        os.system(\"beep\")\n",
    "        \n",
    "        \n",
    "\n",
    "    # [b,g,r]\n",
    "    \n",
    "    res = np.hstack((equ_1,equ_2)) #stacking images side-by-side\n",
    "    imshow('histogram equalization', res)\n",
    "    if waitKey(1) == ord('q'):\n",
    "        break\n",
    "    \n",
    "# When everything done, release the capture\n",
    "cap.release()\n",
    "destroyAllWindows()\n"
   ]
  },
  {
   "cell_type": "code",
   "execution_count": null,
   "metadata": {},
   "outputs": [],
   "source": []
  }
 ]
}