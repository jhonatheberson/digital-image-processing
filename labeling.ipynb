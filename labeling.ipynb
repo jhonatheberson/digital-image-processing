{
 "metadata": {
  "language_info": {
   "codemirror_mode": {
    "name": "ipython",
    "version": 3
   },
   "file_extension": ".py",
   "mimetype": "text/x-python",
   "name": "python",
   "nbconvert_exporter": "python",
   "pygments_lexer": "ipython3",
   "version": "3.8.3-final"
  },
  "orig_nbformat": 2,
  "kernelspec": {
   "name": "python38364bitanaconda3virtualenvc771911bd3e34967806341dee24480a7",
   "display_name": "Python 3.8.3 64-bit ('anaconda3': virtualenv)"
  }
 },
 "nbformat": 4,
 "nbformat_minor": 2,
 "cells": [
  {
   "cell_type": "code",
   "execution_count": null,
   "metadata": {},
   "outputs": [],
   "source": [
    "import numpy as np\n",
    "from cv2 import *\n",
    "from matplotlib import pyplot as plt\n",
    "\n"
   ]
  },
  {
   "cell_type": "code",
   "execution_count": null,
   "metadata": {},
   "outputs": [],
   "source": [
    "img = imread('./assets/bolhas.png',IMREAD_GRAYSCALE) #get picture in grayscale\n",
    "\n",
    "if img is None: #checks picture has been apened \n",
    "    sys.exit(\"Could not read the image.\")\n",
    "\n",
    "\n",
    "img_original = img.copy()\n",
    "realce = np.zeros(img.shape, img.dtype)"
   ]
  },
  {
   "cell_type": "code",
   "execution_count": null,
   "metadata": {},
   "outputs": [],
   "source": [
    "\n",
    "\n",
    "mask = np.zeros((height+2, width+2), img.dtype)     # line26\n",
    "[width_mask, height_mask] = mask.shape\n",
    "\n",
    "\n",
    "\n",
    "objects = 0\n",
    "#busca objetos presentes\n",
    "for i in range(height):\n",
    "    for j in range(width):\n",
    "        if img[i][j] == 255:\n",
    "            # achou um objeto\n",
    "            objects+=1\n",
    "            p = (j,i)\n",
    "            #preenche o objeto com o contador\n",
    "            floodFill(image=img, mask=mask, seedPoint=p, newVal=objects)\n",
    "            img_flood = img.copy()\n",
    "print('a figura tem ',objects, 'bolhas')"
   ]
  },
  {
   "cell_type": "code",
   "execution_count": null,
   "metadata": {},
   "outputs": [],
   "source": [
    "plt.subplot(231),plt.imshow(img_original, 'gray'),plt.title('ORIGINAL')\n",
    "plt.subplot(232),plt.imshow(mask, 'gray'),plt.title('MASK')\n",
    "plt.subplot(233),plt.imshow(img_flood, 'gray'),plt.title('CONT BOLHAS')\n",
    "equalizeHist(img,realce)\n",
    "plt.subplot(234),plt.imshow(img, 'gray'),plt.title('CONT BOLHAS realce')\n",
    "plt.show()"
   ]
  },
  {
   "cell_type": "code",
   "execution_count": null,
   "metadata": {},
   "outputs": [],
   "source": []
  }
 ]
}