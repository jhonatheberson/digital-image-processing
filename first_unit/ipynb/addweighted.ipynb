{
 "metadata": {
  "language_info": {
   "codemirror_mode": {
    "name": "ipython",
    "version": 3
   },
   "file_extension": ".py",
   "mimetype": "text/x-python",
   "name": "python",
   "nbconvert_exporter": "python",
   "pygments_lexer": "ipython3",
   "version": "3.8.5-final"
  },
  "orig_nbformat": 2,
  "kernelspec": {
   "name": "python38364bitanaconda3virtualenvc771911bd3e34967806341dee24480a7",
   "display_name": "Python 3.8.3 64-bit ('anaconda3': virtualenv)"
  }
 },
 "nbformat": 4,
 "nbformat_minor": 2,
 "cells": [
  {
   "cell_type": "code",
   "execution_count": 1,
   "metadata": {},
   "outputs": [],
   "source": [
    "import numpy as np\n",
    "import cv2 as cv \n",
    "import sys"
   ]
  },
  {
   "cell_type": "code",
   "execution_count": 2,
   "metadata": {},
   "outputs": [],
   "source": [
    "def tiltshift(img, x1, x2, d, gauss = 2):\n",
    "    vetor = np.arange(img.shape[0], dtype=np.float32)\n",
    "\n",
    "    # Tratamento de erro por divisão de 0 (np.tanh tem tratamento de erro! Verifique as funcoes universais do numpy)\n",
    "    if d == 0:\n",
    "        vetor = np.sign((np.tanh((vetor - x1) / 1) - np.tanh((vetor - x2) / 1)) - 1)\n",
    "\n",
    "        # np.clip não funciona para valores negativos.\n",
    "        vetor[vetor < 0] = 0\n",
    "        vetor[vetor > 1] = 1\n",
    "    else:\n",
    "        vetor = (np.tanh((vetor - x1) / d) - np.tanh((vetor - x2) / d)) / 2\n",
    "\n",
    "    mascara = np.repeat(vetor, img.shape[1]).reshape(img.shape[:2])\n",
    "\n",
    "    img2 = cv.GaussianBlur(img, (gauss * 2 + 1, gauss * 2 + 1), 0)\n",
    "    if len(img.shape) == 3:\n",
    "        mascara = cv.cvtColor(mascara, cv.COLOR_GRAY2BGR)\n",
    "\n",
    "    img_ret = cv.convertScaleAbs(img * mascara + img2 * (1 - mascara))\n",
    "\n",
    "    return img_ret"
   ]
  },
  {
   "cell_type": "code",
   "execution_count": 3,
   "metadata": {},
   "outputs": [],
   "source": [
    "# Obrigatoriedade da funcao! (Desnecessario!)\n",
    "def faz_nada(*args, **kwargs):\n",
    "    pass"
   ]
  },
  {
   "cell_type": "code",
   "execution_count": 4,
   "metadata": {},
   "outputs": [],
   "source": [
    "frame = cv.imread('../assets/blend2.jpg',cv.IMREAD_GRAYSCALE) #get picture in grayscale\n",
    "\n",
    "if frame is None: #checks picture has been apened \n",
    "    sys.exit(\"Could not read the image.\")"
   ]
  },
  {
   "cell_type": "code",
   "execution_count": 5,
   "metadata": {},
   "outputs": [],
   "source": [
    "def main():\n",
    "\n",
    "\n",
    "    cv.namedWindow('Frame')\n",
    "    cv.namedWindow('Padrao')\n",
    "\n",
    "    cv.createTrackbar('x1', 'Padrao', 250, 1000, faz_nada)\n",
    "    cv.createTrackbar('x2', 'Padrao', 490, 1000, faz_nada)\n",
    "    cv.createTrackbar('d', 'Padrao', 0, 100, faz_nada)\n",
    "    cv.createTrackbar('gauss', 'Padrao', 20,  100, faz_nada)\n",
    "\n",
    "  \n",
    "\n",
    "    speed = 3\n",
    "    descarte_frame = 0\n",
    "    while True:\n",
    "        if descarte_frame == 0:\n",
    "            x1 = cv.getTrackbarPos('x1', 'Padrao')\n",
    "            x2 = cv.getTrackbarPos('x2', 'Padrao')\n",
    "            d = cv.getTrackbarPos('d', 'Padrao')\n",
    "            gauss = cv.getTrackbarPos('gauss', 'Padrao')\n",
    "\n",
    "            # frame = cv.cvtColor(frame, cv.COLOR_BGR2GRAY)\n",
    "            cv.imshow('Frame', frame)\n",
    "\n",
    "            img = tiltshift(frame, x1, x2, d, gauss)\n",
    "            cv.imshow('Padrao', img)\n",
    "\n",
    "            key = cv.waitKey(15)\n",
    "            if key == 27:\n",
    "                break\n",
    "            descarte_frame += 1\n",
    "            descarte_frame = descarte_frame % speed\n",
    "        else:\n",
    "            descarte_frame += 1\n",
    "            descarte_frame = descarte_frame % speed\n",
    "\n",
    "       "
   ]
  },
  {
   "cell_type": "code",
   "execution_count": 6,
   "metadata": {},
   "outputs": [],
   "source": [
    "if __name__ == '__main__':\n",
    "    main()"
   ]
  },
  {
   "cell_type": "code",
   "execution_count": null,
   "metadata": {},
   "outputs": [],
   "source": []
  }
 ]
}