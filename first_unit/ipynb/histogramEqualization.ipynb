{
 "metadata": {
  "language_info": {
   "codemirror_mode": {
    "name": "ipython",
    "version": 3
   },
   "file_extension": ".py",
   "mimetype": "text/x-python",
   "name": "python",
   "nbconvert_exporter": "python",
   "pygments_lexer": "ipython3",
   "version": "3.8.3-final"
  },
  "orig_nbformat": 2,
  "kernelspec": {
   "name": "python38364bitanaconda3virtualenvc771911bd3e34967806341dee24480a7",
   "display_name": "Python 3.8.3 64-bit ('anaconda3': virtualenv)"
  }
 },
 "nbformat": 4,
 "nbformat_minor": 2,
 "cells": [
  {
   "cell_type": "code",
   "execution_count": 33,
   "metadata": {},
   "outputs": [],
   "source": [
    "import numpy as np\n",
    "from cv2 import *\n",
    "from matplotlib import pyplot as plt"
   ]
  },
  {
   "cell_type": "code",
   "execution_count": 34,
   "metadata": {},
   "outputs": [],
   "source": [
    "histR = np.zeros(64)\n",
    "histG = np.zeros(64)\n",
    "histB = np.zeros(64)\n",
    "nbins = 64\n",
    "histrange = range(0,256)\n",
    "histWidth = int(nbins)\n",
    "histheight = int(nbins/2)"
   ]
  },
  {
   "cell_type": "code",
   "execution_count": 35,
   "metadata": {},
   "outputs": [],
   "source": [
    "# create a mask\n",
    "mask = np.zeros((histheight,histWidth), np.uint8)\n",
    "mask[0:histheight, 0:histWidth] = 255\n",
    "histImgR = np.zeros((histheight,histWidth), np.uint8)\n",
    "histImgG = np.zeros((histheight,histWidth), np.uint8)\n",
    "histImgB = np.zeros((histheight,histWidth), np.uint8)"
   ]
  },
  {
   "cell_type": "code",
   "execution_count": 36,
   "metadata": {},
   "outputs": [],
   "source": [
    "cap = VideoCapture(0)\n",
    "if not cap.isOpened():\n",
    "    print(\"Cannot open camera\")\n",
    "    exit()\n",
    "\n",
    "# Define the codec and create VideoWriter object\n",
    "# fourcc = VideoWriter_fourcc(*'XVID')\n",
    "# out = VideoWriter('output.avi', fourcc, 20.0, (640,  480))"
   ]
  },
  {
   "cell_type": "code",
   "execution_count": 37,
   "metadata": {},
   "outputs": [
    {
     "output_type": "display_data",
     "data": {
      "text/plain": "<Figure size 432x288 with 2 Axes>",
      "image/png": "[encoded data removed]"
     },
     "metadata": {
      "needs_background": "light"
     }
    }
   ],
   "source": [
    "while True:\n",
    "    # Capture frame-by-frame\n",
    "    ret, frame = cap.read()\n",
    "\n",
    "    cap.set(CAP_PROP_FRAME_WIDTH, 640)\n",
    "    cap.set(CAP_PROP_FRAME_HEIGHT, 480)\n",
    "\n",
    "    width = cap.get(CAP_PROP_FRAME_WIDTH)\n",
    "    height = cap.get(CAP_PROP_FRAME_HEIGHT)\n",
    "\n",
    "    # print('width: ', width)\n",
    "    # print('heigth', height)\n",
    "    \n",
    "\n",
    "    # if frame is read correctly ret is True\n",
    "    if not ret:\n",
    "        print(\"Can't receive frame (stream end?). Exiting ...\")\n",
    "        break\n",
    "\n",
    "\n",
    "\n",
    "\n",
    "    # frame = flip(frame, 0)\n",
    "    # write the flipped frame\n",
    "    # out.write(frame)\n",
    "    # Our operations on the frame come here\n",
    "\n",
    "    # Our operations on the frame come here\n",
    "    gray = cvtColor(frame, COLOR_BGR2GRAY)\n",
    "    histgray = calcHist([gray],[0],None,[256],[0,256])\n",
    "    \n",
    "    # [b,g,r]\n",
    "    \n",
    "\n",
    "    equ = equalizeHist(gray) # histogram equalization\n",
    "    histequ = calcHist([equ],[0],None,[256],[0,256])\n",
    "\n",
    "    mask_default = np.zeros((histheight, nbins), np.uint8)\n",
    "    \n",
    "    \n",
    "\n",
    "    \n",
    "    \n",
    "\n",
    "    res = np.hstack((gray,equ)) #stacking images side-by-side\n",
    "\n",
    "    imshow('histogram equalization', res)\n",
    "    if waitKey(1) == ord('q'):\n",
    "        break\n",
    "# When everything done, release the capture\n",
    "cap.release()\n",
    "destroyAllWindows()\n",
    "plt.subplot(223), plt.plot(histgray)\n",
    "plt.subplot(224), plt.plot(histequ)\n",
    "plt.show()"
   ]
  },
  {
   "cell_type": "code",
   "execution_count": null,
   "metadata": {},
   "outputs": [],
   "source": []
  }
 ]
}