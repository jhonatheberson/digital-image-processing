{
 "metadata": {
  "language_info": {
   "codemirror_mode": {
    "name": "ipython",
    "version": 3
   },
   "file_extension": ".py",
   "mimetype": "text/x-python",
   "name": "python",
   "nbconvert_exporter": "python",
   "pygments_lexer": "ipython3",
   "version": "3.8.5-final"
  },
  "orig_nbformat": 2,
  "kernelspec": {
   "name": "python38364bitanaconda3virtualenvc771911bd3e34967806341dee24480a7",
   "display_name": "Python 3.8.3 64-bit ('anaconda3': virtualenv)"
  }
 },
 "nbformat": 4,
 "nbformat_minor": 2,
 "cells": [
  {
   "cell_type": "code",
   "execution_count": 2,
   "metadata": {},
   "outputs": [],
   "source": [
    "import numpy as np\n",
    "from cv2 import *\n",
    "from matplotlib import pyplot as plt"
   ]
  },
  {
   "cell_type": "code",
   "execution_count": 3,
   "metadata": {},
   "outputs": [],
   "source": [
    "cap = VideoCapture(0)\n",
    "if not cap.isOpened():\n",
    "    print(\"Cannot open camera\")\n",
    "    exit()"
   ]
  },
  {
   "cell_type": "code",
   "execution_count": 4,
   "metadata": {},
   "outputs": [],
   "source": [
    "media = np.array([[0.1111, 0.1111, 0.1111],[0.1111,0.1111,0.1111],[0.1111,0.1111,0.1111]])\n",
    "gauss = np.array([[0.0625, 0.125, 0.0625],[0.125, 0.25, 0.125],[0.0625, 0.125, 0.0625]])\n",
    "horizontal =  np.array([[-1, 0, 1],[-2, 0, 2],[-1, 0, 1]])\n",
    "vertical = np.array([[-1, -2, -1],[0, 0, 0],[1, 2, 1]])\n",
    "laplacian = np.array([[0, -1, 0],[-1, 4, -1],[0, -1, 0]])\n",
    "boost = np.array([[0, -1, 0],[-1, 5.2, -1],[0, -1, 0]])"
   ]
  },
  {
   "cell_type": "code",
   "execution_count": 5,
   "metadata": {},
   "outputs": [],
   "source": [
    "while True:\n",
    "    # Capture frame-by-frame\n",
    "    ret, frame = cap.read()\n",
    "\n",
    "    cap.set(CAP_PROP_FRAME_WIDTH, 640)\n",
    "    cap.set(CAP_PROP_FRAME_HEIGHT, 480)\n",
    "\n",
    "    width = cap.get(CAP_PROP_FRAME_WIDTH)\n",
    "    height = cap.get(CAP_PROP_FRAME_HEIGHT)\n",
    "\n",
    "    # print('width: ', width)\n",
    "    # print('heigth', height)\n",
    "    \n",
    "\n",
    "    # if frame is read correctly ret is True\n",
    "    if not ret:\n",
    "        print(\"Can't receive frame (stream end?). Exiting ...\")\n",
    "        break\n",
    "\n",
    "\n",
    "\n",
    "\n",
    "    # frame = flip(frame, 0)\n",
    "    # write the flipped frame\n",
    "    # out.write(frame)\n",
    "    # Our operations on the frame come here\n",
    "\n",
    "    # Our operations on the frame come here\n",
    "    gray = cvtColor(frame, COLOR_BGR2GRAY)\n",
    "    \n",
    "    # [b,g,r]\n",
    "    \n",
    "    \n",
    " \n",
    "    imshow('original', gray)\n",
    "    filtergauss = filter2D(gray, -1, gauss, anchor=(-1,1))\n",
    "    imshow('filtergauss', abs(filtergauss))\n",
    "\n",
    "    filtermedia = filter2D(gray, -1, media, anchor=(-1,1))\n",
    "    imshow('filtermedia', abs(filtermedia))\n",
    "\n",
    "    filtervertical = filter2D(gray, -1, vertical, anchor=(-1,1))\n",
    "    imshow('filtervertical', abs(filtervertical))\n",
    "\n",
    "    filterhorizontal = filter2D(gray, -1, horizontal, anchor=(-1,1))\n",
    "    imshow('filterhorizontal', abs(filterhorizontal))\n",
    "\n",
    "    filterlaplacian = filter2D(gray, -1, laplacian, anchor=(-1,1))\n",
    "    imshow('filterlaplacian', abs(filterlaplacian))\n",
    "\n",
    "    filterboost = filter2D(gray, -1, boost, anchor=(-1,1))\n",
    "    imshow('filterboost', abs(filterboost))\n",
    "     \n",
    "\n",
    "    \n",
    "    \n",
    "    if waitKey(1) == ord('q'): \n",
    "        break # esc pressed!Z\n",
    "   \n",
    "    \n",
    "    \n",
    "\n",
    "# When everything done, release the capture\n",
    "cap.release()\n",
    "destroyAllWindows()"
   ]
  },
  {
   "cell_type": "code",
   "execution_count": null,
   "metadata": {},
   "outputs": [],
   "source": []
  }
 ]
}