{
 "metadata": {
  "language_info": {
   "codemirror_mode": {
    "name": "ipython",
    "version": 3
   },
   "file_extension": ".py",
   "mimetype": "text/x-python",
   "name": "python",
   "nbconvert_exporter": "python",
   "pygments_lexer": "ipython3",
   "version": "3.8.5-final"
  },
  "orig_nbformat": 2,
  "kernelspec": {
   "name": "python38364bitanaconda3virtualenvc771911bd3e34967806341dee24480a7",
   "display_name": "Python 3.8.3 64-bit ('anaconda3': virtualenv)"
  }
 },
 "nbformat": 4,
 "nbformat_minor": 2,
 "cells": [
  {
   "cell_type": "code",
   "execution_count": 1,
   "metadata": {},
   "outputs": [],
   "source": [
    "import numpy as np\n",
    "import cv2 as cv\n",
    "from matplotlib import pyplot as plt "
   ]
  },
  {
   "cell_type": "code",
   "execution_count": 2,
   "metadata": {},
   "outputs": [],
   "source": [
    "def tiltshift(img, x1, x2, d, gauss = 2):\n",
    "    vetor = np.arange(img.shape[0], dtype=np.float32)\n",
    "\n",
    "    # Tratamento de erro por divisão de 0 (np.tanh tem tratamento de erro! Verifique as funcoes universais do numpy)\n",
    "    if d == 0:\n",
    "        vetor = np.sign((np.tanh((vetor - x1) / 1) - np.tanh((vetor - x2) / 1))             - 1)    \n",
    "\n",
    "        # np.clip não funciona para valores negativos.\n",
    "        vetor[vetor < 0] = 0\n",
    "        vetor[vetor > 1] = 1\n",
    "    else:\n",
    "        vetor = (np.tanh((vetor - x1) / d) - np.tanh((vetor - x2) / d)) / 2\n",
    "\n",
    "    mascara = np.repeat(vetor, img.shape[1]).reshape(img.shape[:2])\n",
    "\n",
    "    img2 = cv.GaussianBlur(img, (gauss * 2 + 1, gauss * 2 + 1), 0)\n",
    "    img_ret = cv.convertScaleAbs(img * mascara + img2 * (1 - mascara))\n",
    "\n",
    "    return img_ret"
   ]
  },
  {
   "cell_type": "code",
   "execution_count": null,
   "metadata": {},
   "outputs": [],
   "source": []
  }
 ]
}