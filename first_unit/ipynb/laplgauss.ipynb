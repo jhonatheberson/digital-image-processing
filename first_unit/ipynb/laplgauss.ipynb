{
 "metadata": {
  "language_info": {
   "codemirror_mode": {
    "name": "ipython",
    "version": 3
   },
   "file_extension": ".py",
   "mimetype": "text/x-python",
   "name": "python",
   "nbconvert_exporter": "python",
   "pygments_lexer": "ipython3",
   "version": "3.8.5-final"
  },
  "orig_nbformat": 2,
  "kernelspec": {
   "name": "python38364bitanaconda3virtualenvc771911bd3e34967806341dee24480a7",
   "display_name": "Python 3.8.3 64-bit ('anaconda3': virtualenv)"
  }
 },
 "nbformat": 4,
 "nbformat_minor": 2,
 "cells": [
  {
   "cell_type": "code",
   "execution_count": 1,
   "metadata": {},
   "outputs": [],
   "source": [
    "import numpy as np\n",
    "import cv2 as cv"
   ]
  },
  {
   "cell_type": "code",
   "execution_count": 2,
   "metadata": {},
   "outputs": [],
   "source": [
    "def filtro(id=0):\n",
    "\n",
    "    media = np.ones((3, 3))/9\n",
    "\n",
    "    gaussiano = np.array([1, 2, 1,\n",
    "                          2, 4, 2,\n",
    "                          1, 2, 1]).reshape((3, 3))/16\n",
    "\n",
    "    horizontal = np.array([-1, 0, 1,\n",
    "                           -2, 0, 2,\n",
    "                           -1, 0, 1]).reshape((3, 3))\n",
    "\n",
    "    vertical = np.array([-1, -2, -1,\n",
    "                         0, 0, 0,\n",
    "                         1, 2, 1]).reshape((3, 3))\n",
    "\n",
    "    laplaciano = np.array([0, -1, 0,\n",
    "                           -1, 4, -1,\n",
    "                           0, -1, 0]).reshape((3, 3))\n",
    "\n",
    "    boost = np.array([0, -1, 0,\n",
    "                      -1, 5.2, -1,\n",
    "                      0, -1, 0]).reshape((3, 3))\n",
    "\n",
    "    indices = [media, gaussiano, horizontal, vertical, laplaciano, boost]\n",
    "\n",
    "    return indices[id]"
   ]
  },
  {
   "cell_type": "code",
   "execution_count": 3,
   "metadata": {},
   "outputs": [],
   "source": [
    "def aplicar_filtro(img, mat):\n",
    "    img_ret = cv.filter2D(img, -1, mat)\n",
    "\n",
    "    return img_ret\n"
   ]
  },
  {
   "cell_type": "code",
   "execution_count": 5,
   "metadata": {},
   "outputs": [],
   "source": [
    "\n",
    "def main():\n",
    "    # cap = cv.VideoCapture('Bird.mp4')\n",
    "    cap = cv.VideoCapture(0)\n",
    "    if not cap.isOpened():\n",
    "        print('Falha ao abrir o video.')\n",
    "        exit(-1)\n",
    "    while True:\n",
    "        ret, frame = cap.read()\n",
    "        if ret:\n",
    "            frame = cv.cvtColor(frame, cv.COLOR_BGR2GRAY)\n",
    "            cv.imshow('Frame', frame)\n",
    "\n",
    "            img = aplicar_filtro(frame, filtro(4))\n",
    "            cv.imshow('Laplaciano', img)\n",
    "\n",
    "            img2 = aplicar_filtro(frame, filtro(1))\n",
    "            img2 = aplicar_filtro(img2, filtro(4))\n",
    "            cv.imshow('Laplaciano do gaussiano', img2)\n",
    "\n",
    "            key = cv.waitKey(15)\n",
    "            if key == 27:\n",
    "                break\n",
    "\n",
    "        else:\n",
    "            cap = cv.VideoCapture(0)\n",
    "    cap.release()\n",
    "    cv.destroyAllWindows()\n"
   ]
  },
  {
   "cell_type": "code",
   "execution_count": 7,
   "metadata": {},
   "outputs": [],
   "source": [
    "if __name__ == '__main__':\n",
    "    main()"
   ]
  },
  {
   "cell_type": "code",
   "execution_count": null,
   "metadata": {},
   "outputs": [],
   "source": []
  }
 ]
}